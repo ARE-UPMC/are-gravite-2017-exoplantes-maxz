{
 "cells": [
  {
   "cell_type": "code",
   "execution_count": 10,
   "metadata": {
    "collapsed": false
   },
   "outputs": [],
   "source": [
    "from tkinter import *\n",
    "from math import *\n",
    "\n",
    "def Cercle(x,y,r,couleur):\n",
    "    \"\"\" Dessine un cercle de centre (x,y) de rayon r et d'une couleur définie\"\"\"\n",
    "\n",
    "    Canevas.create_oval(x-r, y-r, x+r, y+r, outline=couleur, fill=couleur)\n",
    "def mouvement():\n",
    "    global t\n",
    "    t=t+0.2\n",
    "    \n",
    "    #mouvement de l'étoile    \n",
    "    \n",
    "    Canevas.coords(etoile,(xc-rs)+distancecme*sin(t),(yc-rs)+distancecme*cos(t),(xc+rs)+distancecme*sin(t),(yc+rs)+distancecme*cos(t))\n",
    "    \n",
    "    #mouvement de la planète  \n",
    "     \n",
    "    Canevas.coords(planete,(xc-rp)-distancecmp*sin(t),(yc-rp)-distancecmp*cos(t),(xc+rp)-distancecmp*sin(t),(yc+rp)-distancecmp*cos(t))\n",
    "   \n",
    "    \n",
    "    Mafenetre.after(230,mouvement)\n",
    "    \n",
    "    \n",
    "# Création de la fenêtre principale (main window)\n",
    "Mafenetre = Tk()\n",
    "Mafenetre.title(\"rotation d'une étoile et d'une planète autour d'un centre de masse\")\n",
    "global xs,ys,rs,xp,yp,rp,xc,yc,rc,R,t\n",
    "t=0    \n",
    "\n",
    "#coordonnées du milieu de centre de masse\n",
    "xc=550\n",
    "yc=500\n",
    "rc=5 #son rayon\n",
    "#coordonées du centre de l'étoile\n",
    "xs=500\n",
    "ys=550\n",
    "rs=50 #son rayon\n",
    "#coordonnées de la planète\n",
    "xp=200\n",
    "yp=200\n",
    "rp=20\n",
    "#masses des objets\n",
    "m1=masseétoile=5\n",
    "m2=masseplanète=1\n",
    "#Distance du centre de masse\n",
    "r1=distancecme= sqrt((xs-xc)**2+(ys-yc)**2)\n",
    "#on a m1*r1=m2*r2 avec m1 et m2 les masses respectives de l'étoile et de la planète\n",
    "distancecmp=(m1*r1)/m2#r2\n",
    "# Création d'un widget Canvas (zone graphique)\n",
    "Largeur = 1000\n",
    "Hauteur = 1000\n",
    "Canevas= Canvas(Mafenetre, width = Largeur, height =Hauteur, bg ='white',bd=8,relief=\"ridge\")\n",
    "Canevas.pack()\n",
    "centre_de_masse=Cercle(xc,yc,rc,\"black\")\n",
    "etoile=Canevas.create_oval(xs-rs,ys-rs,xs+rs,ys+rs,fill=\"yellow\")\n",
    "planete=Canevas.create_oval(xp-rp,yp-rp,xp+rp,yp+rp,fill=\"red\")\n",
    "mouvement()\n",
    "Mafenetre.mainloop()"
   ]
  },
  {
   "cell_type": "code",
   "execution_count": null,
   "metadata": {
    "collapsed": true
   },
   "outputs": [],
   "source": []
  }
 ],
 "metadata": {
  "kernelspec": {
   "display_name": "Python 3",
   "language": "python",
   "name": "python3"
  },
  "language_info": {
   "codemirror_mode": {
    "name": "ipython",
    "version": 3
   },
   "file_extension": ".py",
   "mimetype": "text/x-python",
   "name": "python",
   "nbconvert_exporter": "python",
   "pygments_lexer": "ipython3",
   "version": "3.4.1"
  }
 },
 "nbformat": 4,
 "nbformat_minor": 0
}
