{
 "cells": [
  {
   "cell_type": "code",
   "execution_count": 127,
   "metadata": {
    "collapsed": false
   },
   "outputs": [],
   "source": [
    "import numpy as np\n",
    "import matplotlib.pyplot as plt\n",
    "plt.plot(0,0,'ok')\n",
    "for i in range(100):\n",
    "    for j in range (100):\n",
    "        if(((50-i)**2+(50-j)**2)<=50**2):\n",
    "            plt.plot(i,j,'oy')\n",
    "theta = np.linspace(0, 2*np.pi, 100)\n",
    "x = np.cos(theta)*80\n",
    "y = np.sin(theta)*80\n",
    "plt.plot(x, y,'b')\n",
    "plt.axis(\"equal\")\n",
    "plt.xlim(-200, 200)\n",
    "plt.ylim(-200, 200)\n",
    "plt.show()\n"
   ]
  },
  {
   "cell_type": "code",
   "execution_count": 140,
   "metadata": {
    "collapsed": false
   },
   "outputs": [],
   "source": [
    "from tkinter import *\n",
    "import random\n",
    "\n",
    "def Cercle(x,y,r,couleur):\n",
    "    \"\"\" Dessine un cercle de centre (x,y) de rayon r et d'une couleur définie\"\"\"\n",
    "\n",
    "    Canevas.create_oval(x-r, y-r, x+r, y+r, outline=couleur, fill=couleur)\n",
    "\n",
    "def Effacer():\n",
    "    \"\"\" Efface la zone graphique \"\"\"\n",
    "    Canevas.delete(ALL)\n",
    "    \n",
    "# Création de la fenêtre principale (main window)\n",
    "Mafenetre = Tk()\n",
    "Mafenetre.title('Cercle')\n",
    "\n",
    "# Création d'un widget Canvas (zone graphique)\n",
    "Largeur = 500\n",
    "Hauteur = 500\n",
    "Canevas = Canvas(Mafenetre, width = Largeur, height =Hauteur, bg ='white')\n",
    "Canevas.pack(padx =5, pady =5)\n",
    "Cercle(250,250,10,\"black\")\n",
    "Cercle(300,300,40,\"yellow\")\n",
    "Cercle(450,450,20,\"blue\")\n",
    "def rotation_cercle(distance,rayon,couleur):\n",
    "    for i in range(20):\n",
    "        for j in range (20):\n",
    "            if(((250-i)**2+(250-j)**2)==distance**2):\n",
    "                Cercle(i+250,j+250,rayon,couleur)\n",
    "                \n",
    "rotation_cercle(100,40,\"blue\")\n",
    "Mafenetre.mainloop()"
   ]
  },
  {
   "cell_type": "code",
   "execution_count": 138,
   "metadata": {
    "collapsed": false
   },
   "outputs": [],
   "source": []
  },
  {
   "cell_type": "code",
   "execution_count": null,
   "metadata": {
    "collapsed": true
   },
   "outputs": [],
   "source": []
  }
 ],
 "metadata": {
  "kernelspec": {
   "display_name": "Python 3",
   "language": "python",
   "name": "python3"
  },
  "language_info": {
   "codemirror_mode": {
    "name": "ipython",
    "version": 3
   },
   "file_extension": ".py",
   "mimetype": "text/x-python",
   "name": "python",
   "nbconvert_exporter": "python",
   "pygments_lexer": "ipython3",
   "version": "3.4.1"
  }
 },
 "nbformat": 4,
 "nbformat_minor": 0
}
