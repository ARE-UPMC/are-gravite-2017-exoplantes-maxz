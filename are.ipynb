{
 "cells": [
  {
   "cell_type": "code",
   "execution_count": 26,
   "metadata": {
    "collapsed": false
   },
   "outputs": [
    {
     "data": {
      "text/plain": [
       "'\\nimport numpy as np\\nimport matplotlib.pyplot as plt\\n\\ntheta = np.linspace(0, 2*np.pi, 100)\\nx = np.cos(theta)\\ny = np.sin(theta)\\nplt.plot(x, y,\\'y\\')\\nplt.axis(\"equal\")\\nplt.xlim(-100, 100)\\nplt.ylim(-2, 2)\\nplt.show()'"
      ]
     },
     "execution_count": 26,
     "metadata": {},
     "output_type": "execute_result"
    }
   ],
   "source": [
    "import numpy as np\n",
    "import matplotlib.pyplot as plt\n",
    "for i in range(100):\n",
    "    for j in range (100):\n",
    "        if(((0-i)**2+(0-j)**2)<=0**2):\n",
    "            plt.plot(i,j,'ok')\n",
    "for i in range(100):\n",
    "    for j in range (100):\n",
    "        if(((50-i)**2+(50-j)**2)<=50**2):\n",
    "            plt.plot(i,j,'oy')\n",
    "plt.xlim(-200, 200)\n",
    "plt.ylim(-200, 200)\n",
    "plt.show()\n",
    "\"\"\"\n",
    "import numpy as np\n",
    "import matplotlib.pyplot as plt\n",
    "\n",
    "theta = np.linspace(0, 2*np.pi, 100)\n",
    "x = np.cos(theta)\n",
    "y = np.sin(theta)\n",
    "plt.plot(x, y,'y')\n",
    "plt.axis(\"equal\")\n",
    "plt.xlim(-100, 100)\n",
    "plt.ylim(-2, 2)\n",
    "plt.show()\"\"\"\n"
   ]
  },
  {
   "cell_type": "code",
   "execution_count": null,
   "metadata": {
    "collapsed": true
   },
   "outputs": [],
   "source": []
  }
 ],
 "metadata": {
  "kernelspec": {
   "display_name": "Python 3",
   "language": "python",
   "name": "python3"
  },
  "language_info": {
   "codemirror_mode": {
    "name": "ipython",
    "version": 3
   },
   "file_extension": ".py",
   "mimetype": "text/x-python",
   "name": "python",
   "nbconvert_exporter": "python",
   "pygments_lexer": "ipython3",
   "version": "3.4.1"
  }
 },
 "nbformat": 4,
 "nbformat_minor": 0
}
