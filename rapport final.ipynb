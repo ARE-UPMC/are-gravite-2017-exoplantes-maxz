{
 "cells": [
  {
   "cell_type": "markdown",
   "metadata": {},
   "source": [
    "Une exoplanète ,ou une planète extrasolaire, est une planète située en dehors du Système solaire.La plupart des exoplanètes découvertes à ce jour orbitent autour des étoiles qui sont situées au moins à 400 année-lumière du Système solaire. Jusqu'à 23 janvier 2016, 1 935 exoplanètes ontété confirmées dans 1 109 systèmes planétaires.\n",
    "\n",
    "*La mouvement d'une exoplanète.\n",
    "\n",
    "Pour une étoile ,il y a des planètes qui orbite autour d'elle.Dans notre cas ,on va étudier un système composé d'une étoile et d'une planète.La planète tourne autour de l'étoile mais l'étoile tourne elle aussi autour d'un point fixtif. Ce point s'appelle un centre de masse.\n",
    "\n",
    "D’après la troisième loi de Newton:\"L'action est toujours égale à la réaction \" . C'est-à-dire que les actions de deux corps l'un sur l'autre sont toujours égales et de sens contraires. Donc les forces gravitationnelles qui exercent sur la planète et l’étoile sont égales et de sens contraires. Mais,en générale ,la masse d’étoile est beaucoup plus grands que la masse de planète, donc le centre de masse est proche de l’étoile et le rayon d’orbite de planète est plus grand que le rayon d’étoile. Et la vitesse d’orbite de la planète est beaucoup plus grande que la vitesse orbitale de l'étoile et elles se déplacent dans la même direction mais de sens contraires. Les deux planètes sont sur la ligne droite qui traverse leur centre de masse, donc elles ont une même rotation,on peut conclure facilement qu'elles mettent le même temps pour parcourir leur orbites.\n",
    "\n",
    "![alt text](https://upload.wikimedia.org/wikipedia/commons/5/59/Orbit3.gif)\n",
    "source: https://commons.wikimedia.org/wiki/File:Orbit3.gif\n",
    "\n",
    "1- Détection d'exoplanètes:\n",
    "\n",
    "Il est exceptionnel de détecter visuellement des exoplanètes comme sur cette photo à cause de la forte luminosité des étoiles comparée à celle des planètes . De plus,à cause leur éloignement , la plupart des étoiles sont réduites à un point lumineux, même avec un télescope puissant.\n",
    "Malgré tout un millier d'exoplanètes a pu être détecté par diverses méthodes comme la méthode des \"vitesses radiales\" qui utilise l'effet DOPPLER.\n",
    "\n",
    "*Méthode de détecter une exoplanète.\n",
    "\n",
    "Soit un système constitué d'une petite étoile (grosse boule blanche) et d'une grosse planète (petite boule blanche).L'ensemble tourne autour du centre de masse (la croix rouge) du système.\n",
    "La vitesse radiale d'un objet est la composante de sa vitesse qui est mesurée dans la direction de la ligne de visée de l'observateur.\n",
    "L'observation directe d'une exoplanète est très difficile car la lumière en provenance de son étoile éblouit la caméra du télescope et empêche très souvent de voir la planète.\n",
    "Par contre,il est possible de voir les effets de la révolution d'une planète autour de son étoile . En,effet,pendant que la planète fait le tour de son étoile (1 an pour la Terre autour du Soleil),cela induit un léger déplacement de l'étoile car elle tourne autour du centre de gravité de l'ensemble {étoile-exoplanète}.\n",
    "Cet effet est détectable à l'aide de la spectroscopie grâce à l 'effet Doppler-Fizeau,en étudiant le spectre de l'étoile. C'est l'effet Doppler appliqué,non pas aux ondes sonores,mais aux ondes électromagnétiques(la lumière). En effet,on observe dans le spectre d'une étoile des raies noires d'absorption correspondant à la composition chimique de la chromosphère de l'étoile . Or,chaque raie ou radiation est caractérisée par sa longueur d'onde λ .\n",
    "Si l'étoile est fixe,ces raies noirs le sont aussi mais si l'étoile est en mouvement,alors les fréquence (donc les longueurs d'onde)des raies absorbées sont modifiées.Celles-ci « se déplacent »dans le spectre visible de la lumière. On appelle ce phénomène le « redshift »ou »blueshift ».\n",
    "avec la formule v/c=|fe-fr|/fr = c(fapp-feloi)/(fapp+feloi)\n",
    "v : vitesse de déplacement relative de la sourc ar rapor au récepteur c : célérité de l'onde fr : fréquence perçus par l'émetteur fe : fréquence émis par l'émetteur fapp : fréquence perçue par récepteur lorsque la source s'approche feloi : fréquence perçue par le récepteur lorsque la source s'éloigne\n",
    "grâce à cette formule ;on en déduit ainsi la vitesse radiale Vr de l'étoile mais aussi la présence d'un exoplanète.\n",
    "\n",
    "![alt text](https://upload.wikimedia.org/wikipedia/commons/e/e4/Redshift_blueshift.svg)\n",
    "source : https://commons.wikimedia.org/wiki/File:Redshift_blueshift.svg\n",
    "\n",
    "2- utilisation de la vitesse radiale:\n",
    "\n",
    "Le déplacement des raies sombres dans le spectre de l'étoile est la signature du mouvement de la planète et de l'étoile autour de leur centre de masse.\n",
    "\n",
    "La détermination de la vitesse radiale par le décallage Doppler permet de tracer la courbe de vitesse radiale et ainsi de déterminer la présence d'une grosse planète ainsi que sa période de révolution.\n",
    "\n",
    "Détermination de la vitesse radiale : Δλ/λ=Vrad/c.\n",
    "Vrad : vitesse radiale,c : vitesse de la lumière.\n",
    "\n",
    "Si il n'y a pas d'exoplanète,alors on aura un specte identique à celle du specte référence immobile.mais ici on observe sur le spectre de l'étoile que les raies sont déclarées vers le rouge.\n",
    "\n",
    "![alt text](http://www.jf-noblet.fr/doppler/spec2.png)\n",
    "\n",
    "\n",
    "\n"
   ]
  },
  {
   "cell_type": "code",
   "execution_count": null,
   "metadata": {
    "collapsed": true
   },
   "outputs": [],
   "source": []
  }
 ],
 "metadata": {
  "kernelspec": {
   "display_name": "Python 3",
   "language": "python",
   "name": "python3"
  },
  "language_info": {
   "codemirror_mode": {
    "name": "ipython",
    "version": 3
   },
   "file_extension": ".py",
   "mimetype": "text/x-python",
   "name": "python",
   "nbconvert_exporter": "python",
   "pygments_lexer": "ipython3",
   "version": "3.4.1"
  }
 },
 "nbformat": 4,
 "nbformat_minor": 0
}
