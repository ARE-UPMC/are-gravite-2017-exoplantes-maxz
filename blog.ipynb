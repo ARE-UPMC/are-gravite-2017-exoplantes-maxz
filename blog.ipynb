{
 "cells": [
  {
   "cell_type": "markdown",
   "metadata": {},
   "source": [
    "# Semaine 1\n",
    "\n",
    "1.Le but du projet\n",
    "\n",
    "Le projet a pour but de comprendre le mouvement d'un système étoile/planète et des méthodes de détection par les vitesses radiales(paramètres,intérêts et limites) et transit((paramètres,intérêts et limites).\n",
    "On écrira aussi des codes en Python pour affichage et ajustement des données;simulation du mouvement à 2 corps.\n",
    "\n",
    "2.Au cours de cette semaine.\n",
    "\n",
    "– Nous nous sommes répartis les tâches de la façon suivante:\n",
    "\n",
    "Shihao s'est proposé à comprendre le mouvement d’un système étoile/planète.\n",
    "\n",
    "Michael s'est proposé à comprendre à la méthode de détection par la vitesse radiale et à la méthode de détection par transit.\n",
    "\n",
    "Zhengxin s’est occupé de la rédaction du blog et présentation de la méthode de détection par la vitesse radiale.\n",
    "\n",
    "Ahmed s'est proposé à comprendre la simulation du système étoile/planète.\n",
    "\n",
    "\n",
    "3.Pour la semaine prochaine…\n",
    "\n",
    "-Quelles sont les étapes que vous prévoyez de réaliser ?\n",
    "\n",
    "Pour la semaine prochaine ,on va essayer de commencer la simulation du système étoile/planète en python.\n"
   ]
  },
  {
   "cell_type": "markdown",
   "metadata": {
    "collapsed": true
   },
   "source": [
    "Shihao:le mouvement d’un système étoile/planète.\n",
    "\n",
    "Comment se déplacent l'étoile et la planète l'une par rapport à l'autre?\n",
    "\n",
    "Pour une étoile ,il y a des planètes qui orbite autour d'elle.Dans notre cas ,on va étudier un système composé d'une\n",
    "étoile et d'une planète.La planète tourne autour de l'étoile mais l'étoile tourne elle aussi autour d'un point fixtif.\n",
    "Ce point s'appelle un centre de masse.\n",
    "\n",
    "Où est-ce que la centre de masse?\n",
    "\n",
    "En générale ,la masse d’étoile est beaucoup plus grands que la masse de planète,\n",
    "donc le centre de masse est proche de l’étoile.\n",
    "\n",
    "D'après la question précédente ,la masse d’étoile est beaucoup plus grands que la masse de planète,donc est-ce que \n",
    "la force exerçant par la planète sur l'etoile et la force exerçant par l'étoile sur la planète sont differantes?\n",
    "\n",
    "D’après la troisième loi de Newton: \"L'action est toujours égale à la réaction \" .\n",
    "C'est-à-dire que les actions de deux corps l'un sur l'autre sont toujours égales et de sens contraires.\n",
    "Donc les forces gravitationnelles qui exercent sur la planète et l’étoile sont égales et de sens contraires.\n",
    "\n",
    "Quel est l’objet qui parcourt la plus grande orbite?\n",
    " \n",
    "le rayon d’orbite de planète est plus grand que le rayon d’étoile.Donc sa l'orbite est plus grande.\n",
    "\n",
    "Laquelle des deux a une vitesse orbitale plus grande?\n",
    " \n",
    "Et la vitesse d’orbite de la planète est beaucoup plus grande que \n",
    "la vitesse orbitale de l'étoile et elles se déplacent dans la même direction mais de sens contraires.\n",
    "\n",
    "Est-ce que on peux penser que elles mettent  le même temps pour parcourir son orbite?\n",
    "\n",
    "Les deux planètes sont sur la ligne droite qui traverse leur centre\n",
    "de masse, donc elles ont une même rotation,on peut conclure \n",
    "facilement qu'elles mettent le même temps pour parcourir leur orbites.\n",
    "\n",
    "Zhengxin:\n",
    "\n",
    "Comment détecte-on une exoplanète?\n",
    "\n",
    "L'observation directe d'une exoplanète est très difficile car la lumière en provenance de son étoile éblouit la caméra du télescope et empêche très souvent de voir la planète.\n",
    "\n",
    "Par contre,il est possible de voir les effets de la révolution d'une planète autour de son étoile .\n",
    "En,effet,pendant que la planète fait le tour de son étoile (1 an pour la Terre autour du Soleil),cela induit un léger déplacement de l'étoile car elle tourne autour du centre de gravité de l'ensemble {étoile-exoplanète}.\n",
    "\n",
    "Par quelle méthode et quel instrument?\n",
    "\n",
    "Cet effet est détectable à l'aide de la spectroscopie grâce à l 'effet Doppler-Fizeau,en étudiant le spectre de l'étoile.\n",
    "C'est l'effet Doppler appliqué,non pas aux ondes sonores,mais aux ondes électromagnétiques(la lumière).\n",
    "En effet,on observe dans le spectre d'une étoile des raies noires d'absorption correspondant à la composition chimique de la chromosphère de l'étoile .\n",
    "Or,chaque raie ou radiation est caractérisée par sa longueur d'onde λ .\n",
    "\n",
    "Si l'étoile est fixe,ces raies noirs le sont aussi mais si l'étoile est en mouvement,alors les fréquence (donc les longueurs d'onde)des raies absorbées sont modifiées.Celles-ci « se déplacent »dans le spectre visible de la lumière.\n",
    "On appelle ce phénomène le « redshift »ou »blueshift ».\n",
    "\n"
   ]
  },
  {
   "cell_type": "code",
   "execution_count": null,
   "metadata": {
    "collapsed": true
   },
   "outputs": [],
   "source": []
  }
 ],
 "metadata": {
  "kernelspec": {
   "display_name": "Python 3",
   "language": "python",
   "name": "python3"
  },
  "language_info": {
   "codemirror_mode": {
    "name": "ipython",
    "version": 3
   },
   "file_extension": ".py",
   "mimetype": "text/x-python",
   "name": "python",
   "nbconvert_exporter": "python",
   "pygments_lexer": "ipython3",
   "version": "3.4.1"
  }
 },
 "nbformat": 4,
 "nbformat_minor": 0
}
