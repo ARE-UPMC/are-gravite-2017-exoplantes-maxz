{
 "cells": [
  {
   "cell_type": "markdown",
   "metadata": {},
   "source": [
    "# EXOPLANETE\n",
    "## Etudiants: XU, ZHANG, nom3, nom4\n"
   ]
  },
  {
   "cell_type": "markdown",
   "metadata": {},
   "source": [
    "### Semaine 1\n",
    "Bla bla\n",
    "### Semaine 2\n",
    "Bla bla\n",
    "### Semaine 3\n",
    "Bla Bla\n",
    "### Semaine 4\n",
    "Bla Bla"
   ]
  },
  {
   "cell_type": "code",
   "execution_count": null,
   "metadata": {
    "collapsed": true
   },
   "outputs": [],
   "source": [
    "      DETECTION D’UNE EXOPLANETE : LES VITESSES RADIALES ET TRANSIT\n",
    "\n",
    "  Une exoplanete ,ou une planète extrasolaire, est une planète située en \n",
    "dehors du Système solaire.\n",
    "La plupart des exoplanètes découvertes à ce jour orbitent autour \n",
    "des étoiles qui sont situées au moins à 400 année-lumière du Système solaire. \n",
    "Jusqu'à 23 janvier 2016, \n",
    "1 935 exoplanètes ont été confirmées  dans 1 109 systèmes planétaires.\n",
    "\n",
    "* le mouvement d’un système étoile/planète:\n",
    "  Pour une étoile ,il y a des planètes qui orbite autour d'elle.Dans notre cas ,on va étudier un système composé d'une\n",
    "étoile et d'une planète.La planète tourne autour de l'étoile mais l'étoile tourne elle aussi autour d'un point fixtif.\n",
    "Ce point s'appelle un centre de masse commun.\n",
    "D’après la troisième loi de Newton: \n",
    "    \"L'action est toujours égale à la réaction \" \n",
    "    c'est-à-dire que les actions de deux corps l'un sur l'autre sont toujours égales et de sens contraires.\n",
    "    Donc les forces gravitationnelles qui exercent sur la planète et l’étoile sont égales et de sens contraires.\n",
    "    Mais,en générale ,la masse d’étoile est beaucoup plus grands que la masse de planète,\n",
    "    donc le centre de masse est proche de l’étoile et \n",
    "    le rayon d’orbite de planète est plus grand que le rayon d’étoile. \n",
    "    Et la vitesse d’orbite de la planète est beaucoup plus grande que \n",
    "    la vitesse orbitale de l'étoile et elles se déplacent dans la même direction mais de sens contraires.\n",
    "    Les deux planètes sont sur la ligne droite qui traverse leur centre\n",
    "    de masse, donc elles ont une même rotation,on peut conclure \n",
    "    facilement qu'elles mettent le même temps pour parcourir leur orbites.\n",
    "\n",
    "\n",
    "\n",
    "\n",
    "\n"
   ]
  },
  {
   "cell_type": "code",
   "execution_count": null,
   "metadata": {
    "collapsed": true
   },
   "outputs": [],
   "source": []
  }
 ],
 "metadata": {
  "kernelspec": {
   "display_name": "Python 3",
   "language": "python",
   "name": "python3"
  },
  "language_info": {
   "codemirror_mode": {
    "name": "ipython",
    "version": 3
   },
   "file_extension": ".py",
   "mimetype": "text/x-python",
   "name": "python",
   "nbconvert_exporter": "python",
   "pygments_lexer": "ipython3",
   "version": "3.4.1"
  }
 },
 "nbformat": 4,
 "nbformat_minor": 2
}
