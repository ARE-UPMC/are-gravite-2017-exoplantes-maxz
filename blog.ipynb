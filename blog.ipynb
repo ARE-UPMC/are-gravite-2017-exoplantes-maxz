{
 "cells": [
  {
   "cell_type": "markdown",
   "metadata": {},
   "source": [
    "# Semaine 1\n",
    "\n",
    "1.Le but du projet\n",
    "\n",
    "Le projet a pour but de comprendre le mouvement d'un système étoile/planète et des méthodes de détection par les vitesses radiales(paramètres,intérêts et limites) et transit((paramètres,intérêts et limites).\n",
    "On écrira aussi des codes en Python pour affichage et ajustement des données;simulation du mouvement à 2 corps.\n",
    "\n",
    "2.Au cours de cette semaine.\n",
    "\n",
    "– Nous nous sommes répartis les tâches de la façon suivante:\n",
    "\n",
    "Shihao s'est proposé à comprendre le mouvement d’un système étoile/planète.\n",
    "\n",
    "Michael s'est proposé à comprendre à la méthode de détection par la vitesse radiale et à la méthode de détection par transit.\n",
    "\n",
    "Zhengxin s’est occupé de la rédaction du blog.\n",
    "\n",
    "Ahmed s'est proposé à comprendre la simulation du système étoile/planète.\n",
    "\n",
    "\n",
    "3.Pour la semaine prochaine…\n",
    "\n",
    "-Quelles sont les étapes que vous prévoyez de réaliser ?\n",
    "\n",
    "Pour la semaine prochaine ,on va essayer de commencer la simulation du système étoile/planète en python.\n"
   ]
  },
  {
   "cell_type": "code",
   "execution_count": null,
   "metadata": {
    "collapsed": true
   },
   "outputs": [],
   "source": []
  }
 ],
 "metadata": {
  "kernelspec": {
   "display_name": "Python 3",
   "language": "python",
   "name": "python3"
  },
  "language_info": {
   "codemirror_mode": {
    "name": "ipython",
    "version": 3
   },
   "file_extension": ".py",
   "mimetype": "text/x-python",
   "name": "python",
   "nbconvert_exporter": "python",
   "pygments_lexer": "ipython3",
   "version": "3.4.1"
  }
 },
 "nbformat": 4,
 "nbformat_minor": 0
}
