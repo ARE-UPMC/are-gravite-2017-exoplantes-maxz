{
 "cells": [
  {
   "cell_type": "code",
   "execution_count": 124,
   "metadata": {
    "collapsed": false
   },
   "outputs": [],
   "source": [
    "from tkinter import *\n",
    "from math import*\n",
    "\n",
    "def Cercle(x,y,r,couleur):\n",
    "    \"\"\" Dessine un cercle de centre (x,y) de rayon r et d'une couleur définie\"\"\"\n",
    "\n",
    "    Canevas.create_oval(x-r, y-r, x+r, y+r, outline=couleur, fill=couleur)\n",
    "def Etoile_mouvement():\n",
    "    global t\n",
    "    t=t+0.2\n",
    "    Canevas.coords(etoile,(xc-rs)+R*sin(t*pi),(yc-rs)+R*cos(t*pi),(xc+rs)+R*sin(t*pi),(yc+rs)+R*cos(t*pi))\n",
    "    Canevas.create_oval((xc-rs)+R*sin(t*pi)+rs-0.01,(yc-rs)+R*cos(t*pi)+rs-0.01,(xc-rs)+R*sin(t*pi)+rs+0.01,(yc-rs)+R*cos(t*pi)+rs+0.01,fill='blue')\n",
    "    Mafenetre.after(600,Etoile_mouvement)\n",
    "def planete_mouvement():\n",
    "    global a\n",
    "    a=a+0.2\n",
    "    Canevas.coords(planete,(xc-rp)+R1*sin(a*0.25*pi),(yc-rp)+R1*cos(a*0.25*pi),(xc+rp)+R1*sin(a*0.25*pi),(yc+rp)+R1*cos(a*0.25*pi))\n",
    "    Canevas.create_oval((xc-rp)+R1*sin(a*0.25*pi)+rp-0.01,(yc-rp)+R1*cos(a*0.25*pi)+rp-0.01,(xc-rp)+R1*sin(a*0.25*pi)+rp+0.1,(yc-rp)+R1*cos(a*0.25*pi)+rp+0.1,fill='green')\n",
    "    Mafenetre.after(145,planete_mouvement)\n",
    "# Création de la fenêtre principale (main window)\n",
    "Mafenetre = Tk()\n",
    "Mafenetre.title(\"rotation d'une étoile et d'une planète autour d'un centre de masse\")\n",
    "global xs,ys,rs,xp,yp,rp,xc,yc,rc,R,t,a\n",
    "t=0    \n",
    "a=0\n",
    "#coordonnées du milieu de centre de masse\n",
    "xc=500\n",
    "yc=500\n",
    "rc=5 #son rayon\n",
    "#coordonées du centre de l'étoile\n",
    "xs=550\n",
    "ys=550\n",
    "rs=50 #son rayon\n",
    "#coordonnées de la planète\n",
    "xp=200\n",
    "yp=200\n",
    "rp=20\n",
    "# Création d'un widget Canvas (zone graphique)\n",
    "Largeur = 1000\n",
    "Hauteur = 1000\n",
    "Canevas= Canvas(Mafenetre, width = Largeur, height =Hauteur, bg ='white',bd=8,relief=\"ridge\")\n",
    "Canevas.pack()\n",
    "R= sqrt((xs-xc)**2+(ys-yc)**2)\n",
    "R1=sqrt((xp-xc)**2+(yp-yc)**2)\n",
    "centre_de_masse=Cercle(xc,yc,rc,\"black\")\n",
    "etoile=Canevas.create_oval(xs-rs,ys-rs,xs+rs,ys+rs,fill=\"yellow\")\n",
    "planete=Canevas.create_oval(xp-rp,yp-rp,xp+rp,yp+rp,fill=\"red\")\n",
    "planete_mouvement()\n",
    "Etoile_mouvement()\n",
    "Mafenetre.mainloop()"
   ]
  },
  {
   "cell_type": "code",
   "execution_count": null,
   "metadata": {
    "collapsed": true
   },
   "outputs": [],
   "source": []
  },
  {
   "cell_type": "code",
   "execution_count": null,
   "metadata": {
    "collapsed": true
   },
   "outputs": [],
   "source": []
  }
 ],
 "metadata": {
  "kernelspec": {
   "display_name": "Python 3",
   "language": "python",
   "name": "python3"
  },
  "language_info": {
   "codemirror_mode": {
    "name": "ipython",
    "version": 3
   },
   "file_extension": ".py",
   "mimetype": "text/x-python",
   "name": "python",
   "nbconvert_exporter": "python",
   "pygments_lexer": "ipython3",
   "version": "3.4.1"
  }
 },
 "nbformat": 4,
 "nbformat_minor": 0
}
